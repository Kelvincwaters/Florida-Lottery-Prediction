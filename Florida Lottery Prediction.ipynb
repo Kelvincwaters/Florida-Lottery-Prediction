{
 "cells": [
  {
   "cell_type": "code",
   "execution_count": null,
   "id": "dcf6780f",
   "metadata": {},
   "outputs": [],
   "source": [
    "# Notebook imported libraries\n",
    "import pandas as pd  \n",
    "import numpy as np\n",
    "import requests \n",
    "import re\n",
    "import io\n",
    "import datetime\n",
    "import tabula\n",
    "import matplotlib.pyplot as plt\n",
    "import seaborn as sns\n",
    "from bs4 import BeautifulSoup\n",
    "from tabula import read_pdf\n",
    "from datetime import datetime\n",
    "import calplot"
   ]
  },
  {
   "cell_type": "markdown",
   "id": "48b515c3",
   "metadata": {},
   "source": [
    "### Webscraping unnamed table data\n",
    "http://floridalottery.com/exptkt/ff.htm"
   ]
  },
  {
   "cell_type": "code",
   "execution_count": null,
   "id": "ed34e788",
   "metadata": {},
   "outputs": [],
   "source": [
    "# Fantasy5\n",
    "url = ('http://floridalottery.com/exptkt/ff.htm') "
   ]
  },
  {
   "cell_type": "markdown",
   "id": "e39e7590",
   "metadata": {},
   "source": [
    "### Request object"
   ]
  },
  {
   "cell_type": "code",
   "execution_count": null,
   "id": "134f9fb1",
   "metadata": {},
   "outputs": [],
   "source": [
    "r = requests.get(url)\n",
    "print(r.status_code) # 200 Good to Go!"
   ]
  },
  {
   "cell_type": "markdown",
   "id": "55161cd4",
   "metadata": {},
   "source": [
    "### Soup object"
   ]
  },
  {
   "cell_type": "code",
   "execution_count": null,
   "id": "b35a0b32",
   "metadata": {},
   "outputs": [],
   "source": [
    "soup = BeautifulSoup(r.text.strip(), 'html.parser') "
   ]
  },
  {
   "cell_type": "markdown",
   "id": "5e2152ad",
   "metadata": {},
   "source": [
    "### Parse entire html page, all tables!"
   ]
  },
  {
   "cell_type": "code",
   "execution_count": null,
   "id": "7395bec4",
   "metadata": {},
   "outputs": [],
   "source": [
    "# Return all table data\n",
    "table_data = []\n",
    "\n",
    "for node in soup.find_all('td'): \n",
    "    table_data.append(''.join(node.find_all(text=True)))"
   ]
  },
  {
   "cell_type": "markdown",
   "id": "0b610079",
   "metadata": {},
   "source": [
    "### Remove empty unwanted spaces from list."
   ]
  },
  {
   "cell_type": "code",
   "execution_count": null,
   "id": "d91d4139",
   "metadata": {},
   "outputs": [],
   "source": [
    "while(\"\" in table_data):\n",
    "    table_data.remove(\"\")"
   ]
  },
  {
   "cell_type": "markdown",
   "id": "5c1c229a",
   "metadata": {},
   "source": [
    "### Remove (\"-\") values from lists."
   ]
  },
  {
   "cell_type": "code",
   "execution_count": null,
   "id": "13ade1fa",
   "metadata": {},
   "outputs": [],
   "source": [
    "while(\"-\" in table_data):\n",
    "    table_data.remove(\"-\")"
   ]
  },
  {
   "cell_type": "markdown",
   "id": "3e8e228d",
   "metadata": {},
   "source": [
    "### List to ndarray"
   ]
  },
  {
   "cell_type": "code",
   "execution_count": null,
   "id": "b9026054",
   "metadata": {},
   "outputs": [],
   "source": [
    "arr = np.array(table_data)\n",
    "print(arr.shape)"
   ]
  },
  {
   "cell_type": "markdown",
   "id": "1aaef1ba",
   "metadata": {},
   "source": [
    "### Converting 1D array to 2D array."
   ]
  },
  {
   "cell_type": "code",
   "execution_count": null,
   "id": "3435aa0c",
   "metadata": {},
   "outputs": [],
   "source": [
    "# len of array / num of cols\n",
    "x = int(len(arr)/6)\n",
    "arr2 = np.reshape(arr, (int(x), 6))# Fantasy Five\n",
    "print(arr2)"
   ]
  },
  {
   "cell_type": "code",
   "execution_count": null,
   "id": "6dfb2baf",
   "metadata": {},
   "outputs": [],
   "source": [
    "arr2.shape\n",
    "print(type(arr2))"
   ]
  },
  {
   "cell_type": "markdown",
   "id": "d3a18f97",
   "metadata": {},
   "source": [
    "### Convert remaining table_data to pandas DataFrame"
   ]
  },
  {
   "cell_type": "code",
   "execution_count": null,
   "id": "ebe96270",
   "metadata": {},
   "outputs": [],
   "source": [
    "Fantasy_Five = pd.DataFrame(arr2, columns= ['Date', 'bal1', \n",
    "                                            'bal2', 'bal3',\n",
    "                                            'bal4', 'bal5'])\n",
    "Fantasy_Five.head()"
   ]
  },
  {
   "cell_type": "markdown",
   "id": "46950c41",
   "metadata": {},
   "source": [
    "### Convert remaining strings to pandas DateTime object<br>\n",
    "if not datetime object drop row in Date column, and set Date column as index."
   ]
  },
  {
   "cell_type": "code",
   "execution_count": null,
   "id": "559d671d",
   "metadata": {},
   "outputs": [],
   "source": [
    "Fantasy_Five['Date'] = pd.to_datetime(Fantasy_Five['Date'], \n",
    "                                      format='%m/%d/%y', \n",
    "                                      errors= 'coerce')\n",
    "Fantasy_Five = Fantasy_Five.set_index('Date')\n",
    "Fantasy_Five.head()"
   ]
  },
  {
   "cell_type": "code",
   "execution_count": null,
   "id": "73113f8c",
   "metadata": {},
   "outputs": [],
   "source": [
    "# Remove Date NaT values by the row\n",
    "Fantasy_Five = Fantasy_Five.loc[Fantasy_Five.index.notnull()]\n",
    "Fantasy_Five.head()"
   ]
  },
  {
   "cell_type": "code",
   "execution_count": null,
   "id": "91dc0b95",
   "metadata": {},
   "outputs": [],
   "source": [
    "# Object Dtypes\n",
    "Fantasy_Five.info()"
   ]
  },
  {
   "cell_type": "markdown",
   "id": "7bf06be2",
   "metadata": {},
   "source": [
    "### Cast all columns to int32"
   ]
  },
  {
   "cell_type": "code",
   "execution_count": null,
   "id": "b6808b7e",
   "metadata": {},
   "outputs": [],
   "source": [
    "# Chaning object type to int32\n",
    "Fantasy_Five = Fantasy_Five.astype({\n",
    "    'bal1': 'int32',\n",
    "    'bal2': 'int32',\n",
    "    'bal3': 'int32',\n",
    "    'bal4': 'int32',\n",
    "    'bal5': 'int32',\n",
    "})\n",
    "Fantasy_Five.info()"
   ]
  },
  {
   "cell_type": "code",
   "execution_count": null,
   "metadata": {},
   "outputs": [],
   "source": [
    "# calendar plot\n",
    "calplot.calplot(Fantasy_Five['bal1'], yearascending= False, cmap = 'YlGn')"
   ]
  },
  {
   "cell_type": "markdown",
   "id": "a2257938",
   "metadata": {},
   "source": [
    "### Cast all DataFrames to .csv or .json files"
   ]
  },
  {
   "cell_type": "code",
   "execution_count": null,
   "id": "05b093ac",
   "metadata": {},
   "outputs": [],
   "source": [
    "# Create json, csv files\n",
    "Fantasy_Five.to_csv('FantasyFive_csv.csv') \n",
    "Fantasy_Five.to_json('FantasyFive_json.json')"
   ]
  },
  {
   "cell_type": "code",
   "execution_count": null,
   "id": "f0762800",
   "metadata": {},
   "outputs": [],
   "source": [
    "# Read csv or json file\n",
    "Fantasy5_Prediction = pd.read_csv('FantasyFive_csv', index_col= 'Date')\n",
    "Fantasy5_Prediction.head()"
   ]
  },
  {
   "cell_type": "markdown",
   "metadata": {},
   "source": [
    "### Tabula to read Winners PDF"
   ]
  },
  {
   "cell_type": "code",
   "execution_count": null,
   "metadata": {},
   "outputs": [],
   "source": [
    "# read pdf\n",
    "mylist = tabula.read_pdf(\"f5of36winners_Dec09_to_present.pdf\")"
   ]
  },
  {
   "cell_type": "code",
   "execution_count": null,
   "metadata": {},
   "outputs": [],
   "source": [
    "# convert PDF into CSV file\n",
    "tabula.convert_into(\"f5of36winners_Dec09_to_present.pdf\"\n",
    "                    \"output.csv\", output_format=\"csv\")"
   ]
  },
  {
   "cell_type": "markdown",
   "id": "b29ec7bf",
   "metadata": {},
   "source": [
    "### Winners Data only goes back to the year 2012"
   ]
  },
  {
   "cell_type": "markdown",
   "id": "2ca90f08",
   "metadata": {},
   "source": [
    "### EDA "
   ]
  },
  {
   "cell_type": "code",
   "execution_count": null,
   "id": "188b0c7a",
   "metadata": {},
   "outputs": [],
   "source": []
  }
 ],
 "metadata": {
  "interpreter": {
   "hash": "971098e9898f5db8f181403622234ae7b1d6631a4222261e824f03f8647c7526"
  },
  "kernelspec": {
   "display_name": "Python 3.8.12 64-bit ('base': conda)",
   "name": "python3"
  },
  "language_info": {
   "codemirror_mode": {
    "name": "ipython",
    "version": 3
   },
   "file_extension": ".py",
   "mimetype": "text/x-python",
   "name": "python",
   "nbconvert_exporter": "python",
   "pygments_lexer": "ipython3",
   "version": "3.8.12"
  }
 },
 "nbformat": 4,
 "nbformat_minor": 5
}
