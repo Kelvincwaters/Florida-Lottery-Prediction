{
 "cells": [
  {
   "cell_type": "code",
   "execution_count": null,
   "id": "dcf6780f",
   "metadata": {},
   "outputs": [],
   "source": [
    "import pandas as pd  \n",
    "import numpy as np\n",
    "import requests \n",
    "import re\n",
    "import io\n",
    "import datetime\n",
    "import tabula\n",
    "from bs4 import BeautifulSoup\n",
    "from tabula import read_pdf"
   ]
  },
  {
   "cell_type": "markdown",
   "id": "48b515c3",
   "metadata": {},
   "source": [
    "### Webscraping unnamed table data"
   ]
  },
  {
   "cell_type": "markdown",
   "id": "35a2a061",
   "metadata": {},
   "source": [
    "#### Url's"
   ]
  },
  {
   "cell_type": "markdown",
   "id": "87a3b8d1",
   "metadata": {},
   "source": [
    "http://floridalottery.com/exptkt/ff.htm"
   ]
  },
  {
   "cell_type": "code",
   "execution_count": null,
   "id": "ed34e788",
   "metadata": {},
   "outputs": [],
   "source": [
    "# Fantasy5\n",
    "url = ('http://floridalottery.com/exptkt/ff.htm') "
   ]
  },
  {
   "cell_type": "markdown",
   "id": "aae63f7d",
   "metadata": {},
   "source": [
    "http://floridalottery.com/exptkt/l6.htm"
   ]
  },
  {
   "cell_type": "code",
   "execution_count": null,
   "id": "b0dd5c9b",
   "metadata": {},
   "outputs": [],
   "source": [
    "# Lotto\n",
    "# url = ('http://floridalottery.com/exptkt/l6.htm')"
   ]
  },
  {
   "cell_type": "markdown",
   "id": "e39e7590",
   "metadata": {},
   "source": [
    "#### Request object"
   ]
  },
  {
   "cell_type": "code",
   "execution_count": null,
   "id": "134f9fb1",
   "metadata": {},
   "outputs": [],
   "source": [
    "r = requests.get(url)\n",
    "print(r.status_code) # 200 Good to Go!"
   ]
  },
  {
   "cell_type": "markdown",
   "id": "55161cd4",
   "metadata": {},
   "source": [
    "#### Soup object"
   ]
  },
  {
   "cell_type": "code",
   "execution_count": null,
   "id": "b35a0b32",
   "metadata": {},
   "outputs": [],
   "source": [
    "soup = BeautifulSoup(r.text.strip(), 'html.parser') "
   ]
  },
  {
   "cell_type": "markdown",
   "id": "5e2152ad",
   "metadata": {},
   "source": [
    "#### Parse entire html page, all tables!"
   ]
  },
  {
   "cell_type": "code",
   "execution_count": null,
   "id": "7395bec4",
   "metadata": {},
   "outputs": [],
   "source": [
    "# Returns the entire page! \n",
    "table_data = []\n",
    "\n",
    "for node in soup.find_all('td'): \n",
    "    table_data.append(''.join(node.find_all(text=True)))"
   ]
  },
  {
   "cell_type": "markdown",
   "id": "0b610079",
   "metadata": {},
   "source": [
    "#### Remove empty unwanted spaces from list."
   ]
  },
  {
   "cell_type": "code",
   "execution_count": null,
   "id": "d91d4139",
   "metadata": {},
   "outputs": [],
   "source": [
    "while(\"\" in table_data):\n",
    "    table_data.remove(\"\")"
   ]
  },
  {
   "cell_type": "markdown",
   "id": "5c1c229a",
   "metadata": {},
   "source": [
    "#### Remove (\"-\") values from lists."
   ]
  },
  {
   "cell_type": "code",
   "execution_count": null,
   "id": "13ade1fa",
   "metadata": {},
   "outputs": [],
   "source": [
    "while(\"-\" in table_data):\n",
    "    table_data.remove(\"-\")"
   ]
  },
  {
   "cell_type": "markdown",
   "id": "3e8e228d",
   "metadata": {},
   "source": [
    "#### List to ndarray"
   ]
  },
  {
   "cell_type": "code",
   "execution_count": null,
   "id": "b9026054",
   "metadata": {},
   "outputs": [],
   "source": [
    "arr = np.array(table_data)\n",
    "print(arr.shape)"
   ]
  },
  {
   "cell_type": "markdown",
   "id": "1aaef1ba",
   "metadata": {},
   "source": [
    "#### Converting 1D array to 2D array."
   ]
  },
  {
   "cell_type": "code",
   "execution_count": null,
   "id": "3435aa0c",
   "metadata": {},
   "outputs": [],
   "source": [
    "# len of array / num of cols\n",
    "x = int(len(arr)/6)\n",
    "arr2 = np.reshape(arr, (int(x), 6))# Fantasy Five\n",
    "print(arr2)"
   ]
  },
  {
   "cell_type": "code",
   "execution_count": null,
   "id": "6dfb2baf",
   "metadata": {},
   "outputs": [],
   "source": [
    "arr2.shape"
   ]
  },
  {
   "cell_type": "code",
   "execution_count": null,
   "id": "395617d4",
   "metadata": {},
   "outputs": [],
   "source": [
    "type(arr2)"
   ]
  },
  {
   "cell_type": "markdown",
   "id": "d3a18f97",
   "metadata": {},
   "source": [
    "#### Convert remaining table_data to pandas DataFrame"
   ]
  },
  {
   "cell_type": "markdown",
   "id": "330d9128",
   "metadata": {},
   "source": [
    "#### Fantasy Five"
   ]
  },
  {
   "cell_type": "code",
   "execution_count": null,
   "id": "ebe96270",
   "metadata": {},
   "outputs": [],
   "source": [
    "Fantasy_Five = pd.DataFrame(arr2, columns= ['Date', 'bal1', \n",
    "                                            'bal2', 'bal3',\n",
    "                                            'bal4', 'bal5'])\n",
    "Fantasy_Five.head()"
   ]
  },
  {
   "cell_type": "markdown",
   "id": "46950c41",
   "metadata": {},
   "source": [
    "#### Convert remaining strings to pandas DateTime object<br>\n",
    "if not datetime object drop row in Date column, and set Date column as index."
   ]
  },
  {
   "cell_type": "code",
   "execution_count": null,
   "id": "559d671d",
   "metadata": {},
   "outputs": [],
   "source": [
    "Fantasy_Five['Date'] = pd.to_datetime(Fantasy_Five['Date'], \n",
    "                                      format='%m/%d/%y', \n",
    "                                      errors= 'coerce')"
   ]
  },
  {
   "cell_type": "code",
   "execution_count": null,
   "id": "d2cfd999",
   "metadata": {},
   "outputs": [],
   "source": [
    "Fantasy_Five = Fantasy_Five.set_index('Date')"
   ]
  },
  {
   "cell_type": "code",
   "execution_count": null,
   "id": "3e7993ba",
   "metadata": {},
   "outputs": [],
   "source": [
    "Fantasy_Five.head()"
   ]
  },
  {
   "cell_type": "code",
   "execution_count": null,
   "id": "73113f8c",
   "metadata": {},
   "outputs": [],
   "source": [
    "# Remove Date NaT values by the row\n",
    "Fantasy_Five = Fantasy_Five.loc[Fantasy_Five.index.notnull()]\n",
    "Fantasy_Five.head()"
   ]
  },
  {
   "cell_type": "code",
   "execution_count": null,
   "id": "91dc0b95",
   "metadata": {},
   "outputs": [],
   "source": [
    "# Object Dtypes\n",
    "Fantasy_Five.info()"
   ]
  },
  {
   "cell_type": "markdown",
   "id": "7bf06be2",
   "metadata": {},
   "source": [
    "#### Cast all columns to int32"
   ]
  },
  {
   "cell_type": "code",
   "execution_count": null,
   "id": "b6808b7e",
   "metadata": {},
   "outputs": [],
   "source": [
    "Fantasy_Five = Fantasy_Five.astype({\n",
    "    'bal1': 'int32',\n",
    "    'bal2': 'int32',\n",
    "    'bal3': 'int32',\n",
    "    'bal4': 'int32',\n",
    "    'bal5': 'int32',\n",
    "})"
   ]
  },
  {
   "cell_type": "code",
   "execution_count": null,
   "id": "ce287f46",
   "metadata": {},
   "outputs": [],
   "source": [
    "Fantasy_Five.info()"
   ]
  },
  {
   "cell_type": "markdown",
   "id": "a2257938",
   "metadata": {},
   "source": [
    "#### Cast all DataFrames to .csv or .json files"
   ]
  },
  {
   "cell_type": "code",
   "execution_count": null,
   "id": "05b093ac",
   "metadata": {},
   "outputs": [],
   "source": [
    "# last wrote 10/11/21\n",
    "Fantasy_Five.to_csv('FantasyFive_csv') \n",
    "Fantasy_Five.to_json('FantasyFive_json')"
   ]
  },
  {
   "cell_type": "code",
   "execution_count": null,
   "id": "f0762800",
   "metadata": {},
   "outputs": [],
   "source": [
    "Fantasy5_Prediction = pd.read_csv('FantasyFive_csv', index_col= 'Date')\n",
    "Fantasy5_Prediction.head()"
   ]
  },
  {
   "cell_type": "markdown",
   "id": "ab457249",
   "metadata": {},
   "source": [
    "#### Passed winners and winning locale<br>\n",
    "#### Tabula requires java <br>"
   ]
  },
  {
   "cell_type": "code",
   "execution_count": null,
   "id": "42bb1f0e",
   "metadata": {},
   "outputs": [],
   "source": [
    "header = ['Draw Date', \n",
    "          'Winner', \n",
    "          'Lottery Retailer', \n",
    "          'Annual Payment/Cash Option',\n",
    "         'Prize Amount',\n",
    "         'Quick Pick',\n",
    "         'Top Prize Winning Tickets']\n",
    "FantasyPDF = tabula.read_pdf('f5of36winners_Dec09_to_present.pdf',\n",
    "                             pages=\"all\", \n",
    "                            guess= False,\n",
    "                            pandas_options={'header': header})\n",
    "FantasyPDF"
   ]
  },
  {
   "cell_type": "markdown",
   "id": "b29ec7bf",
   "metadata": {},
   "source": [
    "#### Winners Data only goes back to the year 2012"
   ]
  },
  {
   "cell_type": "code",
   "execution_count": null,
   "id": "66420cf1",
   "metadata": {},
   "outputs": [],
   "source": [
    "arr3 = np.array(FantasyPDF, dtype= 'object')\n",
    "print(arr3.shape)"
   ]
  },
  {
   "cell_type": "code",
   "execution_count": null,
   "id": "cba6728f",
   "metadata": {},
   "outputs": [],
   "source": [
    "# x = int(len(arr3)/7)\n",
    "arr4 = np.reshape(arr3, (92, 7))# Fantasy Five\n",
    "print(arr4)"
   ]
  },
  {
   "cell_type": "code",
   "execution_count": null,
   "id": "0acdc7ce",
   "metadata": {},
   "outputs": [],
   "source": [
    "Fantasy5Winners = pd.DataFrame(FantasyPDF, header= header)\n",
    "Fantasy5Winners"
   ]
  },
  {
   "cell_type": "markdown",
   "id": "00be015c",
   "metadata": {},
   "source": [
    "#### PDF to csv"
   ]
  },
  {
   "cell_type": "code",
   "execution_count": null,
   "id": "3a557fb7",
   "metadata": {},
   "outputs": [],
   "source": []
  },
  {
   "cell_type": "code",
   "execution_count": null,
   "id": "d9ec862c",
   "metadata": {},
   "outputs": [],
   "source": []
  },
  {
   "cell_type": "markdown",
   "id": "2ca90f08",
   "metadata": {},
   "source": [
    "### EDA "
   ]
  },
  {
   "cell_type": "code",
   "execution_count": null,
   "id": "2b44a63e",
   "metadata": {},
   "outputs": [],
   "source": [
    "Fantasy5_Prediction.info()"
   ]
  },
  {
   "cell_type": "code",
   "execution_count": null,
   "id": "38196bb4",
   "metadata": {},
   "outputs": [],
   "source": [
    "Fantasy5_Prediction.describe()"
   ]
  },
  {
   "cell_type": "code",
   "execution_count": null,
   "id": "188b0c7a",
   "metadata": {},
   "outputs": [],
   "source": [
    "Fantasy5_Prediction.bal5.value_counts()"
   ]
  },
  {
   "cell_type": "code",
   "execution_count": null,
   "id": "ad0118e2",
   "metadata": {},
   "outputs": [],
   "source": []
  },
  {
   "cell_type": "code",
   "execution_count": null,
   "id": "d1e4e2ba",
   "metadata": {},
   "outputs": [],
   "source": []
  },
  {
   "cell_type": "code",
   "execution_count": null,
   "id": "13255edf",
   "metadata": {},
   "outputs": [],
   "source": []
  },
  {
   "cell_type": "code",
   "execution_count": null,
   "id": "db2ada57",
   "metadata": {},
   "outputs": [],
   "source": []
  },
  {
   "cell_type": "code",
   "execution_count": null,
   "id": "2530291b",
   "metadata": {},
   "outputs": [],
   "source": []
  },
  {
   "cell_type": "code",
   "execution_count": null,
   "id": "ed98712c",
   "metadata": {},
   "outputs": [],
   "source": []
  }
 ],
 "metadata": {
  "interpreter": {
   "hash": "971098e9898f5db8f181403622234ae7b1d6631a4222261e824f03f8647c7526"
  },
  "kernelspec": {
   "display_name": "Python 3.8.8 64-bit (conda)",
   "name": "python3"
  },
  "language_info": {
   "codemirror_mode": {
    "name": "ipython",
    "version": 3
   },
   "file_extension": ".py",
   "mimetype": "text/x-python",
   "name": "python",
   "nbconvert_exporter": "python",
   "pygments_lexer": "ipython3",
   "version": "3.8.8"
  }
 },
 "nbformat": 4,
 "nbformat_minor": 5
}
